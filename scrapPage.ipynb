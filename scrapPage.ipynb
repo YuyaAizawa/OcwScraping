{
 "cells": [
  {
   "cell_type": "code",
   "execution_count": 1,
   "metadata": {},
   "outputs": [],
   "source": [
    "import pymysql\n",
    "connection = pymysql.connect(host='localhost',\n",
    "                             user='root',\n",
    "                             password='',\n",
    "                             db='test_ocw',\n",
    "                             charset='utf8',\n",
    "                             # Selectの結果をdictionary形式で受け取る\n",
    "                             cursorclass=pymysql.cursors.DictCursor)"
   ]
  },
  {
   "cell_type": "code",
   "execution_count": 2,
   "metadata": {},
   "outputs": [
    {
     "name": "stdout",
     "output_type": "stream",
     "text": [
      "{'開講元': '数理・計算科学コース', '担当教員名': '脇田建,増原英彦', '授業形態': '講義', '曜日・時限(講義室)': '月5-6(W831)\\xa0\\xa0木5-6(W831)', 'クラス': '-', '科目コード': 'MCS.T502', '単位数': '2', '開講年度': 'H30年度', '開講クォーター': '3Q', 'シラバス更新日': 'H30年3月20日', '講義資料更新日': '-', '使用言語': '英語', 'アクセスランキング': '', '講義の概要とねらい': '関数型プログラミングの研究・開発において培われてきたゴミ集め，型駆動の最適化，関数閉包などの要素技術は，関数型プログラミングパラダイムの壁を越え，多くのプログラミング言語に取り込まれています．関数型言語のコンパイラを読み解くことによって，高い抽象性を誇りつつも，非効率にも見える関数型のプログラムが，さまざまな技術を経て高効率な機械実行可能なコードに変換される様子を学べます．授業で扱うコンパイラは抽象構文木，K正規形，クロージャ変換，仮想機械命令などの抽象化層を経て段階的に機械命令を生成します．このように設計されたコンパクトで美しいコンパイラの構成より，さらに複雑なソフトウェアを記述するための系統的な方法についても学ぶことができるでしょう．', '到達目標': '【到達目標】\\u3000本授業の目標は (1) 関数型プログラミング言語の習得，(2) 関数型プログラミングの実践的方法論の理解，(3) 関数型プログラミング言語のコンパイラの理解の三点です．関数型プログラミングができるようになること，そして関数型プログラミング言語のコンパイラのソストウェアアーキテクチャを理解することを到達目標とします．\\n【テーマ】\\u3000関数型プログラミング言語で記述された関数型言語のコンパイラを読み解く経験を通して，大規模なソフトウェアの構成方法，抽象化レベルの高いソフトウェアを段階的に具現化する技術，記述の抽象度と実行時の効率性を両立するための方法論など，一般の情報システム構築における要点を実践的に学びます．', 'キーワード': 'Compiler organization, Optimization, System programming, Functional programming, OCaml', '学生が身につける力': \"[[\\\\'-\\\\',\\\\'-\\\\',\\\\'✔\\\\',\\\\'-\\\\',\\\\'-\\\\']]\", '授業の進め方': 'The course is taught mainly by lectures.', '授業計画・課題': \"[[\\\\'第1回\\\\',\\\\'概要\\\\',\\\\'Guidance\\\\'],[\\\\'第2回\\\\',\\\\'OCamlによる関数型プログラミングへの招待\\\\',\\\\'基本的なデータ型，複合的なデータ型，代数的データ型について学ぶ\\\\'],[\\\\'第3回\\\\',\\\\'OCamlによる関数型プログラミングへの招待\\\\',\\\\'再帰的なデータ構造，再帰的な関数，関数閉包，状態の扱い\\\\'],[\\\\'第4回\\\\',\\\\'OCamlによる関数型プログラミングへの招待\\\\',\\\\'レコード，例外処理，モジュールシステム，標準ライブラリ，開発環境\\\\'],[\\\\'第5回\\\\',\\\\'関数型言語のコンパイラ MinCaml のソフトウェアアーキテクチャ\\\\',\\\\'関数型言語OCamlで記述された関数型言語MinCamlのソフトウェアアーキテクチャの概要を理解する．\\\\'],[\\\\'第6回\\\\',\\\\'プログラムから抽象構文木へ\\\\',\\\\'字句解析と構文解析について学ぶ\\\\'],[\\\\'第7回\\\\',\\\\'型解析\\\\',\\\\'型検査と型推論，ユニフィケーション\\\\'],[\\\\'第8回\\\\',\\\\'抽象構文木からK正規形へ\\\\',\\\\'K正規形，α変換\\\\'],[\\\\'第9回\\\\',\\\\'最適化(1)\\\\',\\\\'β簡約，letの入れ子についての簡約，インライン展開\\\\'],[\\\\'第10回\\\\',\\\\'最適化(2)\\\\',\\\\'定数畳み込み，不要定義除去\\\\'],[\\\\'第11回\\\\',\\\\'関数閉包の除去\\\\',\\\\'クロージャ変換\\\\'],[\\\\'第12回\\\\',\\\\'仮想機械命令生成\\\\',\\\\'仮想機械命令生成\\\\'],[\\\\'第13回\\\\',\\\\'レジスタ割り当て\\\\',\\\\'レジスタ割り当て\\\\'],[\\\\'第14回\\\\',\\\\'実行可能コードの生成\\\\',\\\\'アセンブリ生成，実行時システム\\\\'],[\\\\'第15回\\\\',\\\\'まとめ\\\\',\\\\'まとめ\\\\']]\", '教科書': '特になし', '参考書、講義資料等': '参考資料はGitHubにホスティングする．GitHubにアクセスする情報はOCW-iから提供する．\\nhttp://esumii.github.io/min-caml/', '成績評価の基準及び方法': '授業時間内の発表およびレポート課題で成績を評価する。最終試験はない。', '関連する科目': 'MCS.T213 ： アルゴリズムとデータ構造,MCS.T224 ： プログラミング第一,MCS.T303 ： プログラミング第二,MCS.T334 ： プログラミング言語処理系,CSC.T372 ： コンパイラ構成', '履修の条件(知識・技能・履修済科目等)': '形式言語理論（オートマトン，文脈自由文法など），アルゴリズムとデータ構造（リスト，木，グラフ）について理解していること．少なくとも一つのプログラミング言語を巧みに使えること．', 'その他': '骨のある授業です．', '講義名': 'H30年度\\u3000関数型プログラミング\\xa0\\xa0\\xa0Functional Programming'}\n"
     ]
    }
   ],
   "source": [
    "import urllib.request\n",
    "from bs4 import BeautifulSoup\n",
    "\n",
    "#Q.曜日・時限が複数になった時もリスト構造にするか(今はリスト構造になっていない)\n",
    "#各教員にaタグが入っている前提で以下の様になっている\n",
    "#アクセスランキングは必要に感じなかったので空\n",
    "def fetch_up(scrapData):\n",
    "    OCW_up = {}\n",
    "\n",
    "    for key in scrapData:\n",
    "        value_list = []\n",
    "        for value in key.dd.strings:\n",
    "            value = value.strip().replace(\" \",\"\").replace(\"\\n\",\"\")\n",
    "            if len(value)>0: value_list.append(value)\n",
    "        OCW_up[key.dt.text] = \",\".join(value_list)\n",
    "        \n",
    "    return OCW_up\n",
    "\n",
    "#時折text内に凄いへんな文字が入る可能性がある(元のOCWの書かれ方のせい)\n",
    "#例で出たやつぶんは修正いれました\n",
    "def fetch_down(scrapData):\n",
    "    OCW_down = {}\n",
    "\n",
    "    for key in scrapData:\n",
    "        keyString = key.h3.text\n",
    "\n",
    "        if key.table is not None: #授業計画・学生が身につける力\n",
    "            tr_list = []\n",
    "            #print([j.text for j in key.thead.tr.find_all(\"th\")]) #ヘッダ\n",
    "            for TR in key.tbody.find_all(\"tr\"): #ボディ\n",
    "                tr_list.append(\"[{}]\".format(\n",
    "                    \",\".join([\"\\\\'{}\\\\'\".format(j.text) for j in TR.find_all(\"td\")])\n",
    "                     ))\n",
    "            OCW_down[keyString] = \"[{}]\".format(\",\".join(tr_list))\n",
    "            ''' リスト構造で保持する場合\n",
    "            for TR in i.tbody.find_all(\"tr\"): #ボディ\n",
    "                print([j.text.split() for j in TR.find_all(\"td\")])\n",
    "            '''\n",
    "            \n",
    "        elif key.ul is not None: #関連する科目\n",
    "            OCW_down[keyString] = \",\".join([j.text for j in key.ul.find_all(\"li\")])\n",
    "            \n",
    "        else: #そのほか(文章で書かれた項目)\n",
    "            OCW_down[keyString] = \"\\n\".join(key.p.strings)\n",
    "        \n",
    "    return OCW_down\n",
    "\n",
    "if __name__=='__main__':\n",
    "    r = urllib.request.urlopen('http://www.ocw.titech.ac.jp/index.php?module=General&action=T0300&GakubuCD=4&GakkaCD=342222&KeiCD=22&course=22&KougiCD=201804054&Nendo=2018&lang=JA&vid=03')\n",
    "    h = r.read().decode('utf-8')\n",
    "    soup = BeautifulSoup(h, \"html.parser\")\n",
    "    \n",
    "    OCWData = fetch_up(soup.find(attrs={\"class\":\"gaiyo-data clearfix\"}).find_all(\"dl\"))\n",
    "    OCWData.update(fetch_down(soup.find_all(attrs={\"class\":\"cont-sec\"})))\n",
    "    OCWData[\"講義名\"] = soup.find(attrs={\"class\":\"page-title-area clearfix\"}).h3.text\n",
    "    print(OCWData)"
   ]
  },
  {
   "cell_type": "code",
   "execution_count": 3,
   "metadata": {},
   "outputs": [],
   "source": [
    "#データベース作ったりINSERTしたり\n",
    "\n",
    "column = {# TOP側 #\n",
    "          \"科目コード\":\"LectureCode\",\n",
    "          \"講義名\":\"LectureName\",\n",
    "          \"担当教員名\":\"Professor\",\n",
    "          \"開講元\":\"Course\",\n",
    "          \"曜日・時限(講義室)\":\"DateRoom\",\n",
    "         #\"講義室\":\"Room\",\n",
    "          \"単位数\":\"TANI\",\n",
    "          \"開講クォーター\":\"Quater\",\n",
    "          \"使用言語\":\"Language\",\n",
    "          # シラバス側 #\n",
    "          \"授業計画・課題\":\"LecturePlan\",\n",
    "          \"成績評価の基準及び方法\":\"HyoukaStyle\",\n",
    "          \"履修の条件(知識・技能・履修済科目等)\":\"RisyuJoken\"}\n",
    "\n",
    "def createDB(column):\n",
    "    with connection.cursor() as cursor:\n",
    "        sub_column = []\n",
    "        for k in column:\n",
    "            #if column_up[k] == \"講義名\":\n",
    "                #key処理\n",
    "            #else:\n",
    "            sub_column.append(column[k]+\" TEXT\")\n",
    "        \n",
    "        sql = \"CREATE TABLE lecture({});\".format(\",\".join(sub_column))\n",
    "        #print(sql)\n",
    "        cursor.execute(sql)\n",
    "        \n",
    "def dropDB():\n",
    "    with connection.cursor() as cursor:\n",
    "        sql = \"DROP TABLE lecture;\"\n",
    "        cursor.execute(sql)\n",
    "        \n",
    "def insertLecture(column,LectureData):\n",
    "    with connection.cursor() as cursor:\n",
    "        sql = \"INSERT INTO lecture ({}) \".format(\",\".join(map(lambda x:column[x],column)))\n",
    "        sql += \"VALUES ({});\".format(\",\".join(map(lambda x:\"\\'{}\\'\".format(LectureData[x]),column)))\n",
    "        #print(sql)\n",
    "        cursor.execute(sql)"
   ]
  },
  {
   "cell_type": "code",
   "execution_count": 5,
   "metadata": {},
   "outputs": [],
   "source": [
    "dropDB()\n",
    "createDB(column)"
   ]
  },
  {
   "cell_type": "code",
   "execution_count": 6,
   "metadata": {},
   "outputs": [],
   "source": [
    "insertLecture(column,OCWData)"
   ]
  },
  {
   "cell_type": "code",
   "execution_count": 7,
   "metadata": {},
   "outputs": [
    {
     "name": "stdout",
     "output_type": "stream",
     "text": [
      "{'LectureCode': 'MCS.T502', 'LectureName': 'H30年度\\u3000関数型プログラミング\\xa0\\xa0\\xa0Functional Programming', 'Professor': '脇田建,増原英彦', 'Course': '数理・計算科学コース', 'DateRoom': '月5-6(W831)\\xa0\\xa0木5-6(W831)', 'TANI': '2', 'Quater': '3Q', 'Language': '英語', 'LecturePlan': \"[['第1回','概要','Guidance'],['第2回','OCamlによる関数型プログラミングへの招待','基本的なデータ型，複合的なデータ型，代数的データ型について学ぶ'],['第3回','OCamlによる関数型プログラミングへの招待','再帰的なデータ構造，再帰的な関数，関数閉包，状態の扱い'],['第4回','OCamlによる関数型プログラミングへの招待','レコード，例外処理，モジュールシステム，標準ライブラリ，開発環境'],['第5回','関数型言語のコンパイラ MinCaml のソフトウェアアーキテクチャ','関数型言語OCamlで記述された関数型言語MinCamlのソフトウェアアーキテクチャの概要を理解する．'],['第6回','プログラムから抽象構文木へ','字句解析と構文解析について学ぶ'],['第7回','型解析','型検査と型推論，ユニフィケーション'],['第8回','抽象構文木からK正規形へ','K正規形，α変換'],['第9回','最適化(1)','β簡約，letの入れ子についての簡約，インライン展開'],['第10回','最適化(2)','定数畳み込み，不要定義除去'],['第11回','関数閉包の除去','クロージャ変換'],['第12回','仮想機械命令生成','仮想機械命令生成'],['第13回','レジスタ割り当て','レジスタ割り当て'],['第14回','実行可能コードの生成','アセンブリ生成，実行時システム'],['第15回','まとめ','まとめ']]\", 'HyoukaStyle': '授業時間内の発表およびレポート課題で成績を評価する。最終試験はない。', 'RisyuJoken': '形式言語理論（オートマトン，文脈自由文法など），アルゴリズムとデータ構造（リスト，木，グラフ）について理解していること．少なくとも一つのプログラミング言語を巧みに使えること．'}\n"
     ]
    }
   ],
   "source": [
    "with connection.cursor() as cursor:\n",
    "    sql = \"SELECT * FROM lecture\"\n",
    "    cursor.execute(sql)\n",
    " \n",
    "    dbdata = cursor.fetchall()\n",
    "    for rows in dbdata:\n",
    "        print(rows)"
   ]
  },
  {
   "cell_type": "code",
   "execution_count": null,
   "metadata": {},
   "outputs": [],
   "source": [
    "#保存！\n",
    "connection.commit()"
   ]
  }
 ],
 "metadata": {
  "kernelspec": {
   "display_name": "Python 3",
   "language": "python",
   "name": "python3"
  },
  "language_info": {
   "codemirror_mode": {
    "name": "ipython",
    "version": 3
   },
   "file_extension": ".py",
   "mimetype": "text/x-python",
   "name": "python",
   "nbconvert_exporter": "python",
   "pygments_lexer": "ipython3",
   "version": "3.6.4"
  }
 },
 "nbformat": 4,
 "nbformat_minor": 2
}
